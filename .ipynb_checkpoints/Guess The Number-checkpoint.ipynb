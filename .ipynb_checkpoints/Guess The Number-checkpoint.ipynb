{
 "cells": [
  {
   "cell_type": "markdown",
   "metadata": {},
   "source": [
    "# Objective\n",
    "\n",
    "The computer will think of a secret number from 1 to 20 and ask the user to guess it.  After each guess, the computer will tell the user whether the number is too high or too low.  The user wins if they can guess the number within six tries.\n",
    "\n",
    "# Importing the random Module\n",
    "\n",
    "While Python includes many buit-in functions, some functions are written in separate programs called modules.  You can use these functions by importing their modules in your program with the _import_ statement."
   ]
  },
  {
   "cell_type": "code",
   "execution_count": 1,
   "metadata": {},
   "outputs": [],
   "source": [
    "import random"
   ]
  },
  {
   "cell_type": "code",
   "execution_count": 3,
   "metadata": {},
   "outputs": [
    {
     "name": "stdout",
     "output_type": "stream",
     "text": [
      "A random number from 1 to 100:  80\n"
     ]
    }
   ],
   "source": [
    "print('A random number from 1 to 100: ',random.randint(1,100))  # testing random.randint"
   ]
  },
  {
   "cell_type": "markdown",
   "metadata": {},
   "source": [
    "# Flow Control Statements\n",
    "\n",
    "The program will execute all the instructions one after the other.  But with the _for_, _if_, _else_ and _break_ statements, you can make the execution loop or skip instructions based on conditions.  "
   ]
  },
  {
   "cell_type": "markdown",
   "metadata": {},
   "source": [
    "## The for Statement\n",
    "\n",
    "It usually works with the function _range()_ to define the number of repetitions.  Whatever is in the for __block__ is repeated.  To define a block you use __indentation__ (4 spaces is the standard, the TAB key should work as well)\n"
   ]
  },
  {
   "cell_type": "code",
   "execution_count": 8,
   "metadata": {},
   "outputs": [
    {
     "name": "stdout",
     "output_type": "stream",
     "text": [
      "0\n",
      "1\n",
      "2\n",
      "3\n",
      "4\n",
      "5\n",
      "6\n",
      "7\n",
      "8\n",
      "9\n",
      "TOTAL -> 45\n"
     ]
    }
   ],
   "source": [
    "sum = 0\n",
    "for number in range(10):     #see the : to tell a block is coming\n",
    "    print(number)            #this is the block that will be repeated\n",
    "    sum = sum + number\n",
    "print('TOTAL ->',sum)"
   ]
  },
  {
   "cell_type": "markdown",
   "metadata": {},
   "source": [
    "## The if Statement\n",
    "\n",
    "The code block following the _if_ statement will run if the statement's __condition__ evaluates to __True__.  If the condition is __False__, the code in the if block is skipped.  You can also use the _else_ statement to execute another block if the condition is False.\n",
    "\n",
    "<img src=\"../images/f_2_1.png\" alt=\"Expressions\" height=\"300\" width=\"300\" >"
   ]
  },
  {
   "cell_type": "code",
   "execution_count": 14,
   "metadata": {},
   "outputs": [
    {
     "name": "stdout",
     "output_type": "stream",
     "text": [
      "minor\n"
     ]
    }
   ],
   "source": [
    "age = 4\n",
    "if age < 18:\n",
    "    print('minor')  #only if age less than 18\n",
    "    "
   ]
  },
  {
   "cell_type": "code",
   "execution_count": 16,
   "metadata": {},
   "outputs": [
    {
     "name": "stdout",
     "output_type": "stream",
     "text": [
      "adult\n"
     ]
    }
   ],
   "source": [
    "age = 51\n",
    "if age < 18:\n",
    "    print('minor')  #only if age less than 18\n",
    "else:\n",
    "    print('adult')  #only if age greater or equal to 18"
   ]
  },
  {
   "cell_type": "markdown",
   "metadata": {},
   "source": [
    "## Leaving loops with the break Statement\n",
    "\n",
    "A break statement tells the execution to jump immediately out of the _for_  block to the first line after the end of the _for_ block.  "
   ]
  },
  {
   "cell_type": "code",
   "execution_count": 48,
   "metadata": {},
   "outputs": [
    {
     "name": "stdout",
     "output_type": "stream",
     "text": [
      "20 EVEN -> STOP\n",
      "You won  0  times\n"
     ]
    }
   ],
   "source": [
    "# Game : Lucky Odds\n",
    "# Everytime you get an odd number to win, but if you get an even number the game stops\n",
    "\n",
    "wins = 0\n",
    "for tries in range(10):\n",
    "    number = random.randint(1,20)\n",
    "    \n",
    "    if number % 2 == 0:         # with even numbers when you divid by 2 the reminder is 0\n",
    "        print(number, 'EVEN -> STOP')\n",
    "        break\n",
    "    else:   \n",
    "        print(number,' ODD -> WIN')\n",
    "        wins += 1\n",
    "\n",
    "print('You won ', wins, ' times')"
   ]
  },
  {
   "cell_type": "markdown",
   "metadata": {},
   "source": [
    "# Converting Values with int(), float(), and str()\n",
    "\n",
    "We usually get information as a string for convenience, but the functions will need a number.  Also, to display the results it is useful to have strings and not numbers.  Therefore we need functions to convert from one type to the other."
   ]
  },
  {
   "cell_type": "code",
   "execution_count": 50,
   "metadata": {},
   "outputs": [
    {
     "data": {
      "text/plain": [
       "('45', 60, 60.0)"
      ]
     },
     "execution_count": 50,
     "metadata": {},
     "output_type": "execute_result"
    }
   ],
   "source": [
    "number = 45\n",
    "text = '60'\n",
    "str(number), int(text), float(text)  "
   ]
  },
  {
   "cell_type": "markdown",
   "metadata": {},
   "source": [
    "# The GAME"
   ]
  },
  {
   "cell_type": "code",
   "execution_count": 52,
   "metadata": {},
   "outputs": [
    {
     "name": "stdout",
     "output_type": "stream",
     "text": [
      "Hello! What is your name?\n"
     ]
    },
    {
     "name": "stdin",
     "output_type": "stream",
     "text": [
      " Carlos\n"
     ]
    },
    {
     "name": "stdout",
     "output_type": "stream",
     "text": [
      "Well, Carlos, I am thinking of a number between 1 and 20.\n",
      "Take a guess.\n"
     ]
    },
    {
     "name": "stdin",
     "output_type": "stream",
     "text": [
      " 2\n"
     ]
    },
    {
     "name": "stdout",
     "output_type": "stream",
     "text": [
      "Your guess is too high\n",
      "Take a guess.\n"
     ]
    },
    {
     "name": "stdin",
     "output_type": "stream",
     "text": [
      " 1\n"
     ]
    },
    {
     "name": "stdout",
     "output_type": "stream",
     "text": [
      "Good Job, Carlos! You guessed my number in 2 guesses!\n"
     ]
    }
   ],
   "source": [
    "# This is a Guess the Number Game.\n",
    "\n",
    "#import random     ---- already imported\n",
    "\n",
    "guesses_taken = 0   #start the counter          \n",
    "\n",
    "print('Hello! What is your name?')  #get the player's name \n",
    "my_name = input()\n",
    "\n",
    "number = random.randint(1,20)  #number to guess\n",
    "print('Well, ' + my_name + ', I am thinking of a number between 1 and 20.')\n",
    "\n",
    "for guesses_taken in range(6):  #only six tries\n",
    "    print('Take a guess.')\n",
    "    guess = input()\n",
    "    guess = int(guess)  #convert guess to a number\n",
    "    \n",
    "    if guess < number:\n",
    "        print('Your guess is too low.')  \n",
    "    \n",
    "    if guess > number:\n",
    "        print('Your guess is too high')\n",
    "        \n",
    "    if guess == number:\n",
    "        break\n",
    "\n",
    "if guess == number: #check the for was terminated because the player won\n",
    "    guesses_taken = str(guesses_taken + 1)  # convert tries into string, add one more because the range starts in 0\n",
    "    print('Good Job, '+ my_name + '! You guessed my number in ' + guesses_taken + ' guesses!')\n",
    "\n",
    "if guess != number:  #used all the tries\n",
    "    number = str(number)  \n",
    "    print('Nope.  The number I was thinking was' + number + '.')\n",
    "        "
   ]
  }
 ],
 "metadata": {
  "kernelspec": {
   "display_name": "games",
   "language": "python",
   "name": "games"
  },
  "language_info": {
   "codemirror_mode": {
    "name": "ipython",
    "version": 3
   },
   "file_extension": ".py",
   "mimetype": "text/x-python",
   "name": "python",
   "nbconvert_exporter": "python",
   "pygments_lexer": "ipython3",
   "version": "3.7.0"
  }
 },
 "nbformat": 4,
 "nbformat_minor": 2
}
